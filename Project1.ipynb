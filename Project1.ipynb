{
  "nbformat": 4,
  "nbformat_minor": 0,
  "metadata": {
    "colab": {
      "name": "Untitled0.ipynb",
      "provenance": [],
      "authorship_tag": "ABX9TyPFlBWOdmxTKInvxtLyQjeP",
      "include_colab_link": true
    },
    "kernelspec": {
      "name": "python3",
      "display_name": "Python 3"
    },
    "language_info": {
      "name": "python"
    }
  },
  "cells": [
    {
      "cell_type": "markdown",
      "metadata": {
        "id": "view-in-github",
        "colab_type": "text"
      },
      "source": [
        "<a href=\"https://colab.research.google.com/github/riuswintan/riuswintan/blob/main/Project1.ipynb\" target=\"_parent\"><img src=\"https://colab.research.google.com/assets/colab-badge.svg\" alt=\"Open In Colab\"/></a>"
      ]
    },
    {
      "cell_type": "code",
      "metadata": {
        "colab": {
          "base_uri": "https://localhost:8080/"
        },
        "id": "m4wu1QsGj4LS",
        "outputId": "26965a15-75e6-4f5f-bc5f-9969e849df00"
      },
      "source": [
        "uang_jalan = int(input(\"Masukkan uang jalan per hari: \"))\n",
        "jumlah_hari = int(input(\"Masukkan jumlah hari dalam sebulan: \"))\n",
        "print(\"\"\"Apakah anda ingin menggunakan sampel plat kendaraan dari kami?\n",
        "ketik 'Y' untuk menggunakan, ketik 'N' untuk memasukkan data.\"\"\")\n",
        "answer = input()\n",
        "if answer == \"Y\":\n",
        "    list_plat_nomor = [8993, 2198, 2501, 2735, 3772, 4837, 9152]\n",
        "else:\n",
        "    list_plat_nomor = []\n",
        "    n = int(input(\"Enter number of elements : \"))\n",
        "    for i in range(0, n):\n",
        "      elements = int(input())\n",
        "      list_plat_nomor.append(elements)\n",
        "print(\"Plat nomor kendaraan yang digunakan adalah   :\",list_plat_nomor) \n",
        "# Pengecekan kendaraan dengan nomor pelat ganjil atau genap \n",
        "kendaraan_genap = 0\n",
        "kendaraan_ganjil = 0 \n",
        "for plat_nomor in list_plat_nomor:\n",
        "    if plat_nomor % 2 == 0:\n",
        "        kendaraan_genap += 1 \n",
        "    else:\n",
        "        kendaraan_ganjil += 1\n",
        "# Total pengeluaran untuk kendaraan dengan nomor pelat ganjil\n",
        "# dan genap dalam 1 bulan\n",
        "i = 1\n",
        "total_pengeluaran = 0\n",
        "total_pengeluaran_ganjil = 0\n",
        "total_pengeluaran_genap = 0\n",
        "\n",
        "while i<= jumlah_hari:\n",
        "    if i % 2 == 0:\n",
        "        total_pengeluaran += (kendaraan_genap * uang_jalan)\n",
        "        total_pengeluaran_genap += (kendaraan_genap * uang_jalan) \n",
        "    else:\n",
        "        total_pengeluaran += (kendaraan_ganjil * uang_jalan)\n",
        "        total_pengeluaran_ganjil += (kendaraan_ganjil * uang_jalan)  \n",
        "    i += 1\n",
        "# Cetak total pengeluaran\n",
        "print(\"Total pengeluaran untuk kendaraan plat genap :\",total_pengeluaran_genap)\n",
        "print(\"Total pengeluaran untuk kendaraan plat ganjil:\",total_pengeluaran_ganjil)    \n",
        "print(\"Total pengeluaran untuk seluruh kendaraan    :\",total_pengeluaran)"
      ],
      "execution_count": 80,
      "outputs": [
        {
          "output_type": "stream",
          "text": [
            "Masukkan uang jalan per hari: 100000\n",
            "Masukkan jumlah hari dalam sebulan: 31\n",
            "Apakah anda ingin menggunakan sampel plat kendaraan dari kami?\n",
            "ketik 'Y' untuk menggunakan, ketik 'N' untuk memasukkan data.\n",
            "Y\n",
            "Plat nomor kendaraan yang digunakan adalah   : [8993, 2198, 2501, 2735, 3772, 4837, 9152]\n",
            "Total pengeluaran untuk kendaraan plat genap : 4500000\n",
            "Total pengeluaran untuk kendaraan plat ganjil: 6400000\n",
            "Total pengeluaran untuk seluruh kendaraan    : 10900000\n"
          ],
          "name": "stdout"
        }
      ]
    }
  ]
}